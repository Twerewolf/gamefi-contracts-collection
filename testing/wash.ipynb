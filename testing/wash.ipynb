{
 "cells": [
  {
   "cell_type": "code",
   "execution_count": 1,
   "metadata": {},
   "outputs": [
    {
     "name": "stdout",
     "output_type": "stream",
     "text": [
      "<div id=\"dividcode\">\n"
     ]
    }
   ],
   "source": [
    "match = \"<div id=\\\"dividcode\\\">\"\n",
    "print(match)"
   ]
  },
  {
   "cell_type": "code",
   "execution_count": 1,
   "metadata": {},
   "outputs": [
    {
     "name": "stdout",
     "output_type": "stream",
     "text": [
      "</pre>\n"
     ]
    }
   ],
   "source": [
    "# </pre>\n",
    "match = \"</pre>\"\n",
    "print(match)"
   ]
  },
  {
   "cell_type": "code",
   "execution_count": 4,
   "metadata": {},
   "outputs": [
    {
     "name": "stdout",
     "output_type": "stream",
     "text": [
      "D32E690872421c911B2F7541895911CE0b0916d.\n",
      "0x0D32E690872421c911B2F7541895911CE0b0916d.\n"
     ]
    }
   ],
   "source": [
    "beginIdx = 3\n",
    "end = \"html\"\n",
    "endLen = len(end)\n",
    "\n",
    "s = \"0x0D32E690872421c911B2F7541895911CE0b0916d.html\"\n",
    "\n",
    "print(s[beginIdx:-endLen])\n",
    "print(s[:-endLen])"
   ]
  },
  {
   "cell_type": "code",
   "execution_count": 1,
   "metadata": {},
   "outputs": [
    {
     "name": "stdout",
     "output_type": "stream",
     "text": [
      "33333\n"
     ]
    }
   ],
   "source": [
    "list = []\n",
    "list.append(\"11111\")\n",
    "list.append(\"22222\")\n",
    "list.append(\"33333\")\n",
    "print(list[-1])"
   ]
  }
 ],
 "metadata": {
  "kernelspec": {
   "display_name": "Python 3.8.10 64-bit",
   "language": "python",
   "name": "python3"
  },
  "language_info": {
   "codemirror_mode": {
    "name": "ipython",
    "version": 3
   },
   "file_extension": ".py",
   "mimetype": "text/x-python",
   "name": "python",
   "nbconvert_exporter": "python",
   "pygments_lexer": "ipython3",
   "version": "3.8.10"
  },
  "orig_nbformat": 4,
  "vscode": {
   "interpreter": {
    "hash": "916dbcbb3f70747c44a77c7bcd40155683ae19c65e1c03b4aa3499c5328201f1"
   }
  }
 },
 "nbformat": 4,
 "nbformat_minor": 2
}
